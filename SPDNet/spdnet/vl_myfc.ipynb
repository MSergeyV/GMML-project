{
 "cells": [
  {
   "cell_type": "code",
   "execution_count": 1,
   "metadata": {},
   "outputs": [],
   "source": [
    "import numpy as np"
   ]
  },
  {
   "cell_type": "code",
   "execution_count": 2,
   "metadata": {},
   "outputs": [],
   "source": [
    "def vl_myfc(X, W, dzdy=None):\n",
    "    X_t = np.zeros(X.shape[0] ** 2,np.max(X.shape))\n",
    "    for ix in range(np.max(X.shape)):\n",
    "        X_t = X[ix]\n",
    "    \n",
    "    if dzdy is None:\n",
    "        Y = W.T.dot(X_t)\n",
    "        return Y\n",
    "    else:\n",
    "        Y = W.dot(dzdy)\n",
    "        Y_w = X_t.dot(dzdy.T)\n",
    "        return"
   ]
  }
 ],
 "metadata": {
  "kernelspec": {
   "display_name": "Python 3",
   "language": "python",
   "name": "python3"
  },
  "language_info": {
   "codemirror_mode": {
    "name": "ipython",
    "version": 3
   },
   "file_extension": ".py",
   "mimetype": "text/x-python",
   "name": "python",
   "nbconvert_exporter": "python",
   "pygments_lexer": "ipython3",
   "version": "3.6.4"
  }
 },
 "nbformat": 4,
 "nbformat_minor": 2
}
