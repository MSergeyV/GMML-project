{
 "cells": [
  {
   "cell_type": "code",
   "execution_count": 79,
   "metadata": {},
   "outputs": [],
   "source": [
    "import numpy as np\n",
    "import scipy"
   ]
  },
  {
   "cell_type": "code",
   "execution_count": 80,
   "metadata": {},
   "outputs": [],
   "source": [
    "def max_eigh(D,c):\n",
    "    pass\n",
    "\n",
    "def symmetric(X):\n",
    "    pass\n",
    "\n",
    "def dDiag(X):\n",
    "    pass"
   ]
  },
  {
   "cell_type": "code",
   "execution_count": 81,
   "metadata": {},
   "outputs": [],
   "source": [
    "def vl_myfc(X, W, dzdy=None):\n",
    "    if dzdy is None:\n",
    "        return W.T.dot(X_t)\n",
    "    else:\n",
    "        Y = W.dot(dzdy)\n",
    "        Y_w = X.dot(dzdy.T)\n",
    "        return Y, Y_w"
   ]
  },
  {
   "cell_type": "code",
   "execution_count": 82,
   "metadata": {},
   "outputs": [],
   "source": [
    "def vl_myrec(X, epsilon, dzdy=None):\n",
    "    svd_u = np.zeros((X.shape[2], X.shape[0], X.shape[0]))\n",
    "    svd_s = np.zeros((X.shape[2], np.min(X.shape)))\n",
    "    svd_v = np.zeros((X.shape[2], X.shape[1], X.shape[1]))\n",
    "    \n",
    "    for i in range(X.shape[0]):\n",
    "        u, s, v = np.linalg.svd(X[i,:,:])\n",
    "        svd_u[i,:,:] = u\n",
    "        svd_s[i,:] = s\n",
    "        svd_v[i,:,:] = v\n",
    "    \n",
    "    answer = input.data.numpy()\n",
    "    if dzdy is None:\n",
    "        for i, data in enumerate(X):\n",
    "            eigenvalues, eigenvectors = np.linalg.eig(data)\n",
    "            eigenvalues = np.maximum(eigenvalues, epsilon)\n",
    "            answer[i,:,:] = eigenvectors.dot(np.diag(eigenvalues).dot(eigenvectors.T))\n",
    "        return answer\n",
    "    else:\n",
    "        for i in range(X.shape[0]):\n",
    "            U, S, V = svd_u[i], np.diag(svd_s[i]), svd_v[i]\n",
    "            \n",
    "            Dmin = S.shape[0]\n",
    "            \n",
    "            dLdC = symmetric(dLdC)\n",
    "            \n",
    "            max_S, max_I = my_eigh(S, epsilon)\n",
    "            dLdV = 2 * dLdC.dot(U).dot(max_S)\n",
    "            dLdS = np.diag(np.where(dLdV == 0, dLdV))\n",
    "            dLdS = dLdS.dot(U.T).dot(dLdC).dot(U)\n",
    "            \n",
    "            K = diag(S).reshape(-1,)\n",
    "            K = np.repeat(K.reshape(1,-1), K.shape[0], axis=0) - np.repeat(K.reshape(-1,1), K.shape[0], axis=1)\n",
    "            K = np.where(np.abs(K) < 1e-6, np.inf, K)\n",
    "            K = 1. / K\n",
    "            \n",
    "            #dzdx = U*(symmetric(K'.*(U'*dLdV))+dDiag(dLdS))*U';\n",
    "            #Y{ix} =  dzdx; %warning('no normalization');\n",
    "            \n",
    "            dzdx = U.dot(symmetric(K.T.dot(U.T.dot(dLdV)) + dDiag(dLdS))).dot(U.T)\n",
    "            answer[i, :, :] = dzdx"
   ]
  },
  {
   "cell_type": "code",
   "execution_count": 90,
   "metadata": {},
   "outputs": [],
   "source": [
    "def vl_mysoftmaxloss(X,c,dzdy):\n",
    "    output = np.subtract(X, X.max(axis=0, keepdims=True))\n",
    "    logarithms = np.log(np.sum(np.exp(output), axis=0))\n",
    "    \n",
    "    if dzdy is None:\n",
    "        output = output - logarithms.reshape(-1,1)\n",
    "        return output\n",
    "    else:\n",
    "        dzdy = dzdy - np.exp(output) * (np.sum(dzdy, axis=0) / np.sum(np.exp(output), axis=0)).reshape(-1,1)"
   ]
  },
  {
   "cell_type": "code",
   "execution_count": null,
   "metadata": {},
   "outputs": [],
   "source": [
    "def updateOutput(self, input):\n",
    "        # start with normalization for numerical stability\n",
    "        self.output = np.subtract(input, input.max(axis=1, keepdims=True))\n",
    "        \n",
    "        # Your code goes here. ################################################\n",
    "        logarithms = np.log(np.sum(np.exp(self.output), axis=1))\n",
    "        self.output = self.output - logarithms.reshape(-1,1)\n",
    "        return self.output\n",
    "    \n",
    "    def updateGradInput(self, input, gradOutput):\n",
    "        # Your code goes here. ################################################\n",
    "        # start with normalization for numerical stability\n",
    "        self.output = np.subtract(input, input.max(axis=1, keepdims=True))\n",
    "        \n",
    "        self.gradInput = gradOutput - np.exp(self.output) * (np.sum(gradOutput, axis=1) / np.sum(np.exp(self.output), axis=1)).reshape(-1,1)\n",
    "        return self.gradInput"
   ]
  },
  {
   "cell_type": "code",
   "execution_count": 13,
   "metadata": {
    "scrolled": true
   },
   "outputs": [
    {
     "name": "stdout",
     "output_type": "stream",
     "text": [
      "0 [[0 1 2]\n",
      " [3 4 5]\n",
      " [6 7 8]]\n",
      "-----\n",
      "1 [[ 9 10 11]\n",
      " [12 13 14]\n",
      " [15 16 17]]\n",
      "-----\n",
      "2 [[18 19 20]\n",
      " [21 22 23]\n",
      " [24 25 26]]\n",
      "-----\n"
     ]
    }
   ],
   "source": [
    "X = np.arange(27).reshape(3,3,3)\n",
    "for i, data in enumerate(X):\n",
    "    print(i, data)\n",
    "    print('-----')"
   ]
  },
  {
   "cell_type": "code",
   "execution_count": 24,
   "metadata": {},
   "outputs": [],
   "source": [
    "A = np.arange(16).reshape(4,4)\n",
    "w, e = np.linalg.eig(A)"
   ]
  },
  {
   "cell_type": "code",
   "execution_count": 15,
   "metadata": {},
   "outputs": [
    {
     "data": {
      "text/plain": [
       "2"
      ]
     },
     "execution_count": 15,
     "metadata": {},
     "output_type": "execute_result"
    }
   ],
   "source": [
    "np.linalg.matrix_rank(A)"
   ]
  },
  {
   "cell_type": "code",
   "execution_count": 62,
   "metadata": {},
   "outputs": [],
   "source": [
    "a = np.array([1,2,3,1,4,2,1000])"
   ]
  },
  {
   "cell_type": "code",
   "execution_count": 74,
   "metadata": {},
   "outputs": [],
   "source": [
    "aa = np.repeat(a.reshape(1,-1), a.shape[0], axis=0) - np.repeat(a.reshape(-1,1), a.shape[0], axis=1)"
   ]
  },
  {
   "cell_type": "code",
   "execution_count": 64,
   "metadata": {},
   "outputs": [],
   "source": [
    "args = np.argwhere(aa != 0)"
   ]
  },
  {
   "cell_type": "code",
   "execution_count": 65,
   "metadata": {},
   "outputs": [],
   "source": [
    "aa[args[:, 0], args[:, 1]] = 1.0 / aa[args[:, 0], args[:, 1]]"
   ]
  },
  {
   "cell_type": "code",
   "execution_count": 66,
   "metadata": {},
   "outputs": [
    {
     "data": {
      "text/plain": [
       "array([[ 0,  1,  0,  0,  0,  1,  0],\n",
       "       [-1,  0,  1, -1,  0,  0,  0],\n",
       "       [ 0, -1,  0,  0,  1, -1,  0],\n",
       "       [ 0,  1,  0,  0,  0,  1,  0],\n",
       "       [ 0,  0, -1,  0,  0,  0,  0],\n",
       "       [-1,  0,  1, -1,  0,  0,  0],\n",
       "       [ 0,  0,  0,  0,  0,  0,  0]])"
      ]
     },
     "execution_count": 66,
     "metadata": {},
     "output_type": "execute_result"
    }
   ],
   "source": [
    "aa"
   ]
  },
  {
   "cell_type": "code",
   "execution_count": 76,
   "metadata": {},
   "outputs": [
    {
     "data": {
      "text/plain": [
       "array([   1,    2,    3,    1,  999,   -1,    1,   -1,    2,  998,   -2,\n",
       "         -1,   -2,    1,   -1,  997,    1,    2,    3,    1,  999,   -3,\n",
       "         -2,   -1,   -3,   -2,  996,   -1,    1,   -1,    2,  998, -999,\n",
       "       -998, -997, -999, -996, -998])"
      ]
     },
     "execution_count": 76,
     "metadata": {},
     "output_type": "execute_result"
    }
   ],
   "source": [
    "aa[args[:, 0], args[:, 1]]"
   ]
  },
  {
   "cell_type": "code",
   "execution_count": 75,
   "metadata": {},
   "outputs": [
    {
     "data": {
      "text/plain": [
       "array([[   0,    1,    2,    0,    3,    1,  999],\n",
       "       [  -1,    0,    1,   -1,    2,    0,  998],\n",
       "       [  -2,   -1,    0,   -2,    1,   -1,  997],\n",
       "       [   0,    1,    2,    0,    3,    1,  999],\n",
       "       [  -3,   -2,   -1,   -3,    0,   -2,  996],\n",
       "       [  -1,    0,    1,   -1,    2,    0,  998],\n",
       "       [-999, -998, -997, -999, -996, -998,    0]])"
      ]
     },
     "execution_count": 75,
     "metadata": {},
     "output_type": "execute_result"
    }
   ],
   "source": [
    "aa"
   ]
  },
  {
   "cell_type": "code",
   "execution_count": 77,
   "metadata": {},
   "outputs": [],
   "source": [
    "aa = np.where(np.abs(aa) < 1e-6, np.inf, aa)"
   ]
  },
  {
   "cell_type": "code",
   "execution_count": 78,
   "metadata": {},
   "outputs": [
    {
     "data": {
      "text/plain": [
       "array([[ 0.        ,  1.        ,  0.5       ,  0.        ,  0.33333333,\n",
       "         1.        ,  0.001001  ],\n",
       "       [-1.        ,  0.        ,  1.        , -1.        ,  0.5       ,\n",
       "         0.        ,  0.001002  ],\n",
       "       [-0.5       , -1.        ,  0.        , -0.5       ,  1.        ,\n",
       "        -1.        ,  0.00100301],\n",
       "       [ 0.        ,  1.        ,  0.5       ,  0.        ,  0.33333333,\n",
       "         1.        ,  0.001001  ],\n",
       "       [-0.33333333, -0.5       , -1.        , -0.33333333,  0.        ,\n",
       "        -0.5       ,  0.00100402],\n",
       "       [-1.        ,  0.        ,  1.        , -1.        ,  0.5       ,\n",
       "         0.        ,  0.001002  ],\n",
       "       [-0.001001  , -0.001002  , -0.00100301, -0.001001  , -0.00100402,\n",
       "        -0.001002  ,  0.        ]])"
      ]
     },
     "execution_count": 78,
     "metadata": {},
     "output_type": "execute_result"
    }
   ],
   "source": [
    "1 / aa"
   ]
  },
  {
   "cell_type": "code",
   "execution_count": 85,
   "metadata": {},
   "outputs": [],
   "source": [
    "from scipy.io import loadmat"
   ]
  },
  {
   "cell_type": "code",
   "execution_count": 87,
   "metadata": {},
   "outputs": [],
   "source": [
    "data = loadmat('/Users/alex/Downloads/spdface_400_inter_histeq/train/1/1_1.mat')"
   ]
  },
  {
   "cell_type": "code",
   "execution_count": 89,
   "metadata": {},
   "outputs": [
    {
     "data": {
      "text/plain": [
       "(400, 400)"
      ]
     },
     "execution_count": 89,
     "metadata": {},
     "output_type": "execute_result"
    }
   ],
   "source": [
    "data['Y1'].shape"
   ]
  },
  {
   "cell_type": "code",
   "execution_count": null,
   "metadata": {},
   "outputs": [],
   "source": []
  }
 ],
 "metadata": {
  "kernelspec": {
   "display_name": "Python 3",
   "language": "python",
   "name": "python3"
  },
  "language_info": {
   "codemirror_mode": {
    "name": "ipython",
    "version": 3
   },
   "file_extension": ".py",
   "mimetype": "text/x-python",
   "name": "python",
   "nbconvert_exporter": "python",
   "pygments_lexer": "ipython3",
   "version": "3.6.4"
  }
 },
 "nbformat": 4,
 "nbformat_minor": 2
}
